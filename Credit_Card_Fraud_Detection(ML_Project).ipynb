{
 "cells": [
  {
   "cell_type": "markdown",
   "id": "5d59781f",
   "metadata": {},
   "source": [
    "# ML | Credit Card Fraud Detection"
   ]
  },
  {
   "cell_type": "markdown",
   "id": "3650f278",
   "metadata": {},
   "source": [
    "### __Introduction__\n",
    "\n",
    "The code demonstrates the use of machine learning to detect credit card fraud. It uses a dataset containing transactions made by credit cards to identify fraudulent transactions."
   ]
  },
  {
   "cell_type": "markdown",
   "id": "ee76b666",
   "metadata": {},
   "source": [
    "### __Applications__\n",
    "\n",
    "Credit card fraud detection is crucial for financial institutions to protect their customers from fraudulent activities. Machine learning models can help in automatically identifying suspicious transactions."
   ]
  },
  {
   "cell_type": "code",
   "execution_count": 6,
   "id": "a060ddfc",
   "metadata": {},
   "outputs": [],
   "source": [
    "# import the necessary packages \n",
    "import numpy as np \n",
    "import pandas as pd \n",
    "import matplotlib.pyplot as plt \n",
    "import seaborn as sns \n",
    "from matplotlib import gridspec"
   ]
  },
  {
   "cell_type": "markdown",
   "id": "e6f37eed",
   "metadata": {},
   "source": [
    "## Loading the dataset"
   ]
  },
  {
   "cell_type": "code",
   "execution_count": 10,
   "id": "5dfcd558",
   "metadata": {},
   "outputs": [],
   "source": [
    "# Loading the dataset from the csv file using pandas \n",
    "data = pd.read_csv(r\"D:\\WEBEL_Assignments\\Machine_learning_RJSir\\Projects\\Project_4_Creditcard_Fraud_Detection\\creditcard.csv\") "
   ]
  },
  {
   "cell_type": "code",
   "execution_count": 11,
   "id": "5b998e12",
   "metadata": {},
   "outputs": [
    {
     "data": {
      "text/plain": [
       "(284807, 31)"
      ]
     },
     "execution_count": 11,
     "metadata": {},
     "output_type": "execute_result"
    }
   ],
   "source": [
    "# Print the shape of the data \n",
    "data.shape"
   ]
  },
  {
   "cell_type": "markdown",
   "id": "affc5ba3",
   "metadata": {},
   "source": [
    "The dataset contains 284,807 rows and 31 columns. Each row represents a transaction, and each column represents a different attribute or feature of that transaction."
   ]
  },
  {
   "cell_type": "code",
   "execution_count": 3,
   "id": "b0fa4fe1",
   "metadata": {},
   "outputs": [
    {
     "data": {
      "text/html": [
       "<div>\n",
       "<style scoped>\n",
       "    .dataframe tbody tr th:only-of-type {\n",
       "        vertical-align: middle;\n",
       "    }\n",
       "\n",
       "    .dataframe tbody tr th {\n",
       "        vertical-align: top;\n",
       "    }\n",
       "\n",
       "    .dataframe thead th {\n",
       "        text-align: right;\n",
       "    }\n",
       "</style>\n",
       "<table border=\"1\" class=\"dataframe\">\n",
       "  <thead>\n",
       "    <tr style=\"text-align: right;\">\n",
       "      <th></th>\n",
       "      <th>Time</th>\n",
       "      <th>V1</th>\n",
       "      <th>V2</th>\n",
       "      <th>V3</th>\n",
       "      <th>V4</th>\n",
       "      <th>V5</th>\n",
       "      <th>V6</th>\n",
       "      <th>V7</th>\n",
       "      <th>V8</th>\n",
       "      <th>V9</th>\n",
       "      <th>...</th>\n",
       "      <th>V21</th>\n",
       "      <th>V22</th>\n",
       "      <th>V23</th>\n",
       "      <th>V24</th>\n",
       "      <th>V25</th>\n",
       "      <th>V26</th>\n",
       "      <th>V27</th>\n",
       "      <th>V28</th>\n",
       "      <th>Amount</th>\n",
       "      <th>Class</th>\n",
       "    </tr>\n",
       "  </thead>\n",
       "  <tbody>\n",
       "    <tr>\n",
       "      <th>0</th>\n",
       "      <td>0.0</td>\n",
       "      <td>-1.359807</td>\n",
       "      <td>-0.072781</td>\n",
       "      <td>2.536347</td>\n",
       "      <td>1.378155</td>\n",
       "      <td>-0.338321</td>\n",
       "      <td>0.462388</td>\n",
       "      <td>0.239599</td>\n",
       "      <td>0.098698</td>\n",
       "      <td>0.363787</td>\n",
       "      <td>...</td>\n",
       "      <td>-0.018307</td>\n",
       "      <td>0.277838</td>\n",
       "      <td>-0.110474</td>\n",
       "      <td>0.066928</td>\n",
       "      <td>0.128539</td>\n",
       "      <td>-0.189115</td>\n",
       "      <td>0.133558</td>\n",
       "      <td>-0.021053</td>\n",
       "      <td>149.62</td>\n",
       "      <td>0</td>\n",
       "    </tr>\n",
       "    <tr>\n",
       "      <th>1</th>\n",
       "      <td>0.0</td>\n",
       "      <td>1.191857</td>\n",
       "      <td>0.266151</td>\n",
       "      <td>0.166480</td>\n",
       "      <td>0.448154</td>\n",
       "      <td>0.060018</td>\n",
       "      <td>-0.082361</td>\n",
       "      <td>-0.078803</td>\n",
       "      <td>0.085102</td>\n",
       "      <td>-0.255425</td>\n",
       "      <td>...</td>\n",
       "      <td>-0.225775</td>\n",
       "      <td>-0.638672</td>\n",
       "      <td>0.101288</td>\n",
       "      <td>-0.339846</td>\n",
       "      <td>0.167170</td>\n",
       "      <td>0.125895</td>\n",
       "      <td>-0.008983</td>\n",
       "      <td>0.014724</td>\n",
       "      <td>2.69</td>\n",
       "      <td>0</td>\n",
       "    </tr>\n",
       "    <tr>\n",
       "      <th>2</th>\n",
       "      <td>1.0</td>\n",
       "      <td>-1.358354</td>\n",
       "      <td>-1.340163</td>\n",
       "      <td>1.773209</td>\n",
       "      <td>0.379780</td>\n",
       "      <td>-0.503198</td>\n",
       "      <td>1.800499</td>\n",
       "      <td>0.791461</td>\n",
       "      <td>0.247676</td>\n",
       "      <td>-1.514654</td>\n",
       "      <td>...</td>\n",
       "      <td>0.247998</td>\n",
       "      <td>0.771679</td>\n",
       "      <td>0.909412</td>\n",
       "      <td>-0.689281</td>\n",
       "      <td>-0.327642</td>\n",
       "      <td>-0.139097</td>\n",
       "      <td>-0.055353</td>\n",
       "      <td>-0.059752</td>\n",
       "      <td>378.66</td>\n",
       "      <td>0</td>\n",
       "    </tr>\n",
       "    <tr>\n",
       "      <th>3</th>\n",
       "      <td>1.0</td>\n",
       "      <td>-0.966272</td>\n",
       "      <td>-0.185226</td>\n",
       "      <td>1.792993</td>\n",
       "      <td>-0.863291</td>\n",
       "      <td>-0.010309</td>\n",
       "      <td>1.247203</td>\n",
       "      <td>0.237609</td>\n",
       "      <td>0.377436</td>\n",
       "      <td>-1.387024</td>\n",
       "      <td>...</td>\n",
       "      <td>-0.108300</td>\n",
       "      <td>0.005274</td>\n",
       "      <td>-0.190321</td>\n",
       "      <td>-1.175575</td>\n",
       "      <td>0.647376</td>\n",
       "      <td>-0.221929</td>\n",
       "      <td>0.062723</td>\n",
       "      <td>0.061458</td>\n",
       "      <td>123.50</td>\n",
       "      <td>0</td>\n",
       "    </tr>\n",
       "    <tr>\n",
       "      <th>4</th>\n",
       "      <td>2.0</td>\n",
       "      <td>-1.158233</td>\n",
       "      <td>0.877737</td>\n",
       "      <td>1.548718</td>\n",
       "      <td>0.403034</td>\n",
       "      <td>-0.407193</td>\n",
       "      <td>0.095921</td>\n",
       "      <td>0.592941</td>\n",
       "      <td>-0.270533</td>\n",
       "      <td>0.817739</td>\n",
       "      <td>...</td>\n",
       "      <td>-0.009431</td>\n",
       "      <td>0.798278</td>\n",
       "      <td>-0.137458</td>\n",
       "      <td>0.141267</td>\n",
       "      <td>-0.206010</td>\n",
       "      <td>0.502292</td>\n",
       "      <td>0.219422</td>\n",
       "      <td>0.215153</td>\n",
       "      <td>69.99</td>\n",
       "      <td>0</td>\n",
       "    </tr>\n",
       "  </tbody>\n",
       "</table>\n",
       "<p>5 rows × 31 columns</p>\n",
       "</div>"
      ],
      "text/plain": [
       "   Time        V1        V2        V3        V4        V5        V6        V7  \\\n",
       "0   0.0 -1.359807 -0.072781  2.536347  1.378155 -0.338321  0.462388  0.239599   \n",
       "1   0.0  1.191857  0.266151  0.166480  0.448154  0.060018 -0.082361 -0.078803   \n",
       "2   1.0 -1.358354 -1.340163  1.773209  0.379780 -0.503198  1.800499  0.791461   \n",
       "3   1.0 -0.966272 -0.185226  1.792993 -0.863291 -0.010309  1.247203  0.237609   \n",
       "4   2.0 -1.158233  0.877737  1.548718  0.403034 -0.407193  0.095921  0.592941   \n",
       "\n",
       "         V8        V9  ...       V21       V22       V23       V24       V25  \\\n",
       "0  0.098698  0.363787  ... -0.018307  0.277838 -0.110474  0.066928  0.128539   \n",
       "1  0.085102 -0.255425  ... -0.225775 -0.638672  0.101288 -0.339846  0.167170   \n",
       "2  0.247676 -1.514654  ...  0.247998  0.771679  0.909412 -0.689281 -0.327642   \n",
       "3  0.377436 -1.387024  ... -0.108300  0.005274 -0.190321 -1.175575  0.647376   \n",
       "4 -0.270533  0.817739  ... -0.009431  0.798278 -0.137458  0.141267 -0.206010   \n",
       "\n",
       "        V26       V27       V28  Amount  Class  \n",
       "0 -0.189115  0.133558 -0.021053  149.62      0  \n",
       "1  0.125895 -0.008983  0.014724    2.69      0  \n",
       "2 -0.139097 -0.055353 -0.059752  378.66      0  \n",
       "3 -0.221929  0.062723  0.061458  123.50      0  \n",
       "4  0.502292  0.219422  0.215153   69.99      0  \n",
       "\n",
       "[5 rows x 31 columns]"
      ]
     },
     "execution_count": 3,
     "metadata": {},
     "output_type": "execute_result"
    }
   ],
   "source": [
    "# Printing the first five rows of the dataset\n",
    "data.head() "
   ]
  },
  {
   "cell_type": "markdown",
   "id": "857a90a4",
   "metadata": {},
   "source": [
    "The dataset contains 284,807 transactions. Each transaction is described by 30 features (V1-V28, Amount, Time)."
   ]
  },
  {
   "cell_type": "code",
   "execution_count": 30,
   "id": "4d9eff16",
   "metadata": {},
   "outputs": [
    {
     "name": "stdout",
     "output_type": "stream",
     "text": [
      "                Time            V1            V2            V3            V4  \\\n",
      "count  284807.000000  2.848070e+05  2.848070e+05  2.848070e+05  2.848070e+05   \n",
      "mean    94813.859575  3.918649e-15  5.682686e-16 -8.761736e-15  2.811118e-15   \n",
      "std     47488.145955  1.958696e+00  1.651309e+00  1.516255e+00  1.415869e+00   \n",
      "min         0.000000 -5.640751e+01 -7.271573e+01 -4.832559e+01 -5.683171e+00   \n",
      "25%     54201.500000 -9.203734e-01 -5.985499e-01 -8.903648e-01 -8.486401e-01   \n",
      "50%     84692.000000  1.810880e-02  6.548556e-02  1.798463e-01 -1.984653e-02   \n",
      "75%    139320.500000  1.315642e+00  8.037239e-01  1.027196e+00  7.433413e-01   \n",
      "max    172792.000000  2.454930e+00  2.205773e+01  9.382558e+00  1.687534e+01   \n",
      "\n",
      "                 V5            V6            V7            V8            V9  \\\n",
      "count  2.848070e+05  2.848070e+05  2.848070e+05  2.848070e+05  2.848070e+05   \n",
      "mean  -1.552103e-15  2.040130e-15 -1.698953e-15 -1.893285e-16 -3.147640e-15   \n",
      "std    1.380247e+00  1.332271e+00  1.237094e+00  1.194353e+00  1.098632e+00   \n",
      "min   -1.137433e+02 -2.616051e+01 -4.355724e+01 -7.321672e+01 -1.343407e+01   \n",
      "25%   -6.915971e-01 -7.682956e-01 -5.540759e-01 -2.086297e-01 -6.430976e-01   \n",
      "50%   -5.433583e-02 -2.741871e-01  4.010308e-02  2.235804e-02 -5.142873e-02   \n",
      "75%    6.119264e-01  3.985649e-01  5.704361e-01  3.273459e-01  5.971390e-01   \n",
      "max    3.480167e+01  7.330163e+01  1.205895e+02  2.000721e+01  1.559499e+01   \n",
      "\n",
      "       ...           V21           V22           V23           V24  \\\n",
      "count  ...  2.848070e+05  2.848070e+05  2.848070e+05  2.848070e+05   \n",
      "mean   ...  1.473120e-16  8.042109e-16  5.282512e-16  4.456271e-15   \n",
      "std    ...  7.345240e-01  7.257016e-01  6.244603e-01  6.056471e-01   \n",
      "min    ... -3.483038e+01 -1.093314e+01 -4.480774e+01 -2.836627e+00   \n",
      "25%    ... -2.283949e-01 -5.423504e-01 -1.618463e-01 -3.545861e-01   \n",
      "50%    ... -2.945017e-02  6.781943e-03 -1.119293e-02  4.097606e-02   \n",
      "75%    ...  1.863772e-01  5.285536e-01  1.476421e-01  4.395266e-01   \n",
      "max    ...  2.720284e+01  1.050309e+01  2.252841e+01  4.584549e+00   \n",
      "\n",
      "                V25           V26           V27           V28         Amount  \\\n",
      "count  2.848070e+05  2.848070e+05  2.848070e+05  2.848070e+05  284807.000000   \n",
      "mean   1.426896e-15  1.701640e-15 -3.662252e-16 -1.217809e-16      88.349619   \n",
      "std    5.212781e-01  4.822270e-01  4.036325e-01  3.300833e-01     250.120109   \n",
      "min   -1.029540e+01 -2.604551e+00 -2.256568e+01 -1.543008e+01       0.000000   \n",
      "25%   -3.171451e-01 -3.269839e-01 -7.083953e-02 -5.295979e-02       5.600000   \n",
      "50%    1.659350e-02 -5.213911e-02  1.342146e-03  1.124383e-02      22.000000   \n",
      "75%    3.507156e-01  2.409522e-01  9.104512e-02  7.827995e-02      77.165000   \n",
      "max    7.519589e+00  3.517346e+00  3.161220e+01  3.384781e+01   25691.160000   \n",
      "\n",
      "               Class  \n",
      "count  284807.000000  \n",
      "mean        0.001727  \n",
      "std         0.041527  \n",
      "min         0.000000  \n",
      "25%         0.000000  \n",
      "50%         0.000000  \n",
      "75%         0.000000  \n",
      "max         1.000000  \n",
      "\n",
      "[8 rows x 31 columns]\n"
     ]
    }
   ],
   "source": [
    "print(data.describe())"
   ]
  },
  {
   "cell_type": "code",
   "execution_count": 14,
   "id": "8dff8596",
   "metadata": {},
   "outputs": [
    {
     "name": "stdout",
     "output_type": "stream",
     "text": [
      "OutlierFraction: 0.0017304750013189597\n",
      "Fraud Cases: 492\n",
      "Valid Transactions: 284315\n"
     ]
    }
   ],
   "source": [
    "# Determine number of fraud cases in dataset \n",
    "fraud = data[data['Class'] == 1] \n",
    "valid = data[data['Class'] == 0] \n",
    "outlierFraction = len(fraud)/float(len(valid)) \n",
    "print(\"OutlierFraction:\",outlierFraction) \n",
    "print('Fraud Cases: {}'.format(len(data[data['Class'] == 1]))) \n",
    "print('Valid Transactions: {}'.format(len(data[data['Class'] == 0])))"
   ]
  },
  {
   "cell_type": "markdown",
   "id": "3874cb00",
   "metadata": {},
   "source": [
    "- The 1st two lines of code create two separate DataFrames: one containing only fraudulent transactions (fraud), and the other containing only valid transactions (valid). This separation is based on the values in the 'Class' column of the original DataFrame (data).\n",
    "-The 4th line determines the proportion of fraud cases in the dataset by calculating the outlierFraction i.e., ratio of fraudulent transactions to valid transactions. It then prints the outlier fraction (ratio of fraud to valid transactions).\n",
    "-From 284,807 transactions, 492 are fraudulent (Class = 1) and 284315 are valid (Class = 0)."
   ]
  },
  {
   "cell_type": "code",
   "execution_count": 6,
   "id": "a8776be4",
   "metadata": {},
   "outputs": [
    {
     "name": "stdout",
     "output_type": "stream",
     "text": [
      "Amount details of the fraudulent transaction\n"
     ]
    },
    {
     "data": {
      "text/plain": [
       "count     492.000000\n",
       "mean      122.211321\n",
       "std       256.683288\n",
       "min         0.000000\n",
       "25%         1.000000\n",
       "50%         9.250000\n",
       "75%       105.890000\n",
       "max      2125.870000\n",
       "Name: Amount, dtype: float64"
      ]
     },
     "execution_count": 6,
     "metadata": {},
     "output_type": "execute_result"
    }
   ],
   "source": [
    "print(\"Amount details of the fraudulent transaction\") \n",
    "fraud.Amount.describe()"
   ]
  },
  {
   "cell_type": "markdown",
   "id": "99231d51",
   "metadata": {},
   "source": [
    "The above code print the header *Amount details of the fraudulent transaction* and then use the `describe()` method to generate descriptive statistics of the 'Amount' column for fraudulent transactions. The output includes `count, mean, standard deviation, minimum, 25th percentile (Q1), median (50th percentile or Q2), 75th percentile (Q3), and maximum values` of the 'Amount' for fraudulent transactions."
   ]
  },
  {
   "cell_type": "code",
   "execution_count": 7,
   "id": "b20de2c8",
   "metadata": {},
   "outputs": [
    {
     "name": "stdout",
     "output_type": "stream",
     "text": [
      "details of valid transaction\n"
     ]
    },
    {
     "data": {
      "text/plain": [
       "count    284315.000000\n",
       "mean         88.291022\n",
       "std         250.105092\n",
       "min           0.000000\n",
       "25%           5.650000\n",
       "50%          22.000000\n",
       "75%          77.050000\n",
       "max       25691.160000\n",
       "Name: Amount, dtype: float64"
      ]
     },
     "execution_count": 7,
     "metadata": {},
     "output_type": "execute_result"
    }
   ],
   "source": [
    "print(\"details of valid transaction\") \n",
    "valid.Amount.describe() "
   ]
  },
  {
   "cell_type": "markdown",
   "id": "b157e52b",
   "metadata": {},
   "source": [
    "The above code print the header *Amount details of the valid transaction* and then use the `describe()` method to generate descriptive statistics of the 'Amount' column for valid transactions. The output includes `count, mean, standard deviation, minimum, 25th percentile (Q1), median (50th percentile or Q2), 75th percentile (Q3), and maximum values` of the 'Amount' for valid transactions."
   ]
  },
  {
   "cell_type": "markdown",
   "id": "1513e83a",
   "metadata": {},
   "source": [
    "### Correlation Matrix Visualization using Heat Map"
   ]
  },
  {
   "cell_type": "code",
   "execution_count": 8,
   "id": "eb51d35f",
   "metadata": {},
   "outputs": [
    {
     "data": {
      "image/png": "[encoded data removed]",
      "text/plain": [
       "<Figure size 864x648 with 2 Axes>"
      ]
     },
     "metadata": {
      "needs_background": "light"
     },
     "output_type": "display_data"
    }
   ],
   "source": [
    "# Correlation matrix \n",
    "corrmat = data.corr() \n",
    "fig = plt.figure(figsize = (12, 9)) \n",
    "sns.heatmap(corrmat, vmax = .8, square = True) \n",
    "plt.show() "
   ]
  },
  {
   "cell_type": "markdown",
   "id": "2ad8b1bd",
   "metadata": {},
   "source": [
    "- The **Heat map** represents the correlation matrix of the dataset, where each cell shows the correlation coefficient between two variables.\n",
    "- Correlation coefficients range from -1 to 1, indicating perfect negative correlation, no correlation, and perfect positive correlation, respectively.\n",
    "- Darker shades in the heat map represent higher correlation coefficients, while lighter shades represent lower ones.\n",
    "- The diagonal line represents the correlation of each variable with itself, always equal to 1.\n",
    "- The visualisation shows the relationships between different features (columns) in the dataset. Each cell in the correlation matrix represents the correlation coefficient between two variables.\n",
    "- This visualization aids in identifying relationships between features, understanding underlying data patterns and helping in: \n",
    "  - **Feature Selection:** Identifies features highly correlated with the target variable ('Class'), aiding in distinguishing valid from fraudulent transactions.\n",
    "  - **Feature Engineering:** Helps decide on creating or transforming features based on observed correlations to enhance model performance in fraud detection.\n",
    "  - **Model Interpretation:** Understanding feature correlations assists in interpreting model predictions, with strongly correlated features potentially impacting decision-making for more accurate fraud detection."
   ]
  },
  {
   "cell_type": "markdown",
   "id": "4b551756",
   "metadata": {},
   "source": [
    "## Data Preparation: Dividing the Dataset into Features (X) and Target (Y)"
   ]
  },
  {
   "cell_type": "code",
   "execution_count": 19,
   "id": "00ec9bea",
   "metadata": {},
   "outputs": [
    {
     "name": "stdout",
     "output_type": "stream",
     "text": [
      "Shape of X datset :  (284807, 30)\n",
      "Shape of Y datset :  (284807,)\n"
     ]
    }
   ],
   "source": [
    "# dividing the X and the Y from the dataset \n",
    "X = data.drop(['Class'], axis = 1) \n",
    "Y = data[\"Class\"] \n",
    "print(\"Shape of X datset : \", X.shape) \n",
    "print(\"Shape of Y datset : \",Y.shape) \n",
    "# getting just the values for the sake of processing  \n",
    "# (its a numpy array with no columns) \n",
    "xData = X.values \n",
    "yData = Y.values "
   ]
  },
  {
   "cell_type": "markdown",
   "id": "f8874a12",
   "metadata": {},
   "source": [
    "This code divides the dataset into features (X) and the target variable (Y):\n",
    "\n",
    "- __X__: Contains all the features (columns) from the dataset except the \"Class\" column, which typically represents the target variable or label.\n",
    "- __Y__: Contains the target variable \"Class,\" which indicates whether each transaction is fraudulent (1) or valid (0).\n",
    "- The __.shape__ function is used to print the dimensions of X and Y, providing information about the number of rows and columns in each.\n",
    "- The __.values__ attribute is then used to convert X and Y into numpy arrays for  training the machine learning model. This conversion simplifies processing by removing column labels, resulting in arrays of just the numerical values."
   ]
  },
  {
   "cell_type": "markdown",
   "id": "39a8a99c",
   "metadata": {},
   "source": [
    "## Splitting data into Training and Testing sets"
   ]
  },
  {
   "cell_type": "code",
   "execution_count": 20,
   "id": "9fe236a0",
   "metadata": {},
   "outputs": [],
   "source": [
    "# Using Scikit-learn to split data into training and testing sets \n",
    "from sklearn.model_selection import train_test_split \n",
    "# Split the data into training and testing sets \n",
    "xTrain, xTest, yTrain, yTest = train_test_split( \n",
    "        xData, yData, test_size = 0.2, random_state = 42)"
   ]
  },
  {
   "cell_type": "markdown",
   "id": "6f010c27",
   "metadata": {},
   "source": [
    "This code uses scikit-learn's `train_test_split` function to split the dataset into training and testing sets:\n",
    "\n",
    "- **train_test_split**: This function is used to randomly split the data into two subsets: one for training the model and the other for testing its performance.\n",
    "- **xData**: Represents the features (X) of the dataset, which have been converted into numpy arrays.\n",
    "- **yData**: Represents the target variable (Y) of the dataset, indicating whether each transaction is fraudulent or valid.\n",
    "- **test_size**: Specifies the proportion of the dataset to include in the testing set. Here, it's set to 0.2, indicating that 20% of the data will be used for testing, while the remaining 80% will be used for training.\n",
    "- **random_state**: Provides a seed value for the random number generator, ensuring reproducibility of the split. Setting it to a specific value (e.g., 42) ensures that the split will be the same each time the code is executed.\n",
    "\n",
    "After splitting the data, the resulting subsets are assigned to the following variables:\n",
    "- **xTrain**: Contains the features for training the model.\n",
    "- **xTest**: Contains the features for evaluating the model's performance.\n",
    "- **yTrain**: Contains the corresponding target values for training.\n",
    "- **yTest**: Contains the corresponding target values for testing.\n",
    "\n",
    "This process allows for training and evaluating machine learning models."
   ]
  },
  {
   "cell_type": "markdown",
   "id": "031690c6",
   "metadata": {},
   "source": [
    "# **Machine Learning Algorithm** - Random Forest Classifier"
   ]
  },
  {
   "cell_type": "markdown",
   "id": "dc8b4fdf",
   "metadata": {},
   "source": [
    "The code uses a **Random Forest Classifier**, a popular machine learning algorithm, to detect fraudulent transactions. This algorithm is used in this code for fraud detection for several reasons:\n",
    "\n",
    "- **Ensemble Learning**: Random Forest is an ensemble learning method that combines multiple decision trees to improve the overall performance of the model. By aggregating the predictions of multiple trees, Random Forest tends to be more robust and less prone to overfitting compared to individual decision trees.\n",
    "\n",
    "- **Classification Task**: The dataset involves classifying transactions into fraudulent and valid categories, making it a binary classification task. Random Forest Classifier is particularly well-suited for classification tasks due to its ability to handle both numerical and categorical features, making it an appropriate choice for this fraud detection problem.\n",
    "\n",
    "- **Non-linearity**: Random Forest can capture complex non-linear relationships between features and the target variable, which is beneficial for detecting fraud patterns that may not be linearly separable in the dataset.\n",
    "\n",
    "- **Feature Importance**: Random Forest provides a measure of feature importance, which helps identify the most relevant features for detecting fraud. This information can be valuable for understanding the underlying patterns contributing to fraudulent transactions.\n",
    "\n",
    "- **Scalability**: Random Forest is relatively scalable and can handle large datasets with high dimensionality, making it suitable for analyzing credit card transaction data, which often involves a large number of features.\n",
    "\n",
    "- **Robustness to Overfitting**: Random Forest inherently reduces overfitting by averaging the predictions of multiple trees trained on different subsets of the data. This helps prevent the model from memorizing noise in the training data and improves its ability to generalize to unseen data.\n",
    "\n",
    "Thus, the Random Forest Classifier is chosen for fraud detection in this code due to its ability to handle complex, non-linear relationships, provide feature importance insights, and mitigate overfitting, making it well-suited for the task of detecting fraudulent credit card transactions."
   ]
  },
  {
   "cell_type": "markdown",
   "id": "a1ec7287",
   "metadata": {},
   "source": [
    "## Building and Training the Random Forest Classifier"
   ]
  },
  {
   "cell_type": "code",
   "execution_count": 21,
   "id": "8f5469e3",
   "metadata": {},
   "outputs": [],
   "source": [
    "# Building the Random Forest Classifier (RANDOM FOREST) \n",
    "from sklearn.ensemble import RandomForestClassifier \n",
    "# random forest model creation \n",
    "rfc = RandomForestClassifier() \n",
    "rfc.fit(xTrain, yTrain) \n",
    "# predictions \n",
    "yPred = rfc.predict(xTest)"
   ]
  },
  {
   "cell_type": "markdown",
   "id": "5a3c30ba",
   "metadata": {},
   "source": [
    "In the above code the following steps are performed:\n",
    "\n",
    "- **Random Forest Classifier Creation**: A Random Forest Classifier (RFC) model is created using the `RandomForestClassifier` class from the scikit-learn library.\n",
    "  \n",
    "- **Model Training**: The `fit` method is called on the RFC object, with the training data (`xTrain` and `yTrain`) as arguments. This trains the RFC model on the training data, allowing it to learn patterns and relationships between features and the target variable.\n",
    "\n",
    "- **Making Predictions**: After the model is trained, predictions are made on the test data (`xTest`) using the `predict` method. The resulting predictions are stored in the variable `yPred`, representing the predicted classes for the test data."
   ]
  },
  {
   "cell_type": "markdown",
   "id": "c90e25c2",
   "metadata": {},
   "source": [
    "## Model Evaluation"
   ]
  },
  {
   "cell_type": "code",
   "execution_count": 22,
   "id": "26edd5c7",
   "metadata": {},
   "outputs": [
    {
     "name": "stdout",
     "output_type": "stream",
     "text": [
      "The model used is Random Forest classifier\n",
      "The accuracy is 0.9995786664794073\n",
      "The precision is 0.9743589743589743\n",
      "The recall is 0.7755102040816326\n",
      "The F1-Score is 0.8636363636363635\n",
      "The Matthews correlation coefficient is 0.8690748763736589\n"
     ]
    }
   ],
   "source": [
    "# Evaluating the classifier \n",
    "# printing every score of the classifier \n",
    "# scoring in anything \n",
    "from sklearn.metrics import classification_report, accuracy_score  \n",
    "from sklearn.metrics import precision_score, recall_score \n",
    "from sklearn.metrics import f1_score, matthews_corrcoef \n",
    "from sklearn.metrics import confusion_matrix \n",
    "  \n",
    "n_outliers = len(fraud) \n",
    "n_errors = (yPred != yTest).sum() \n",
    "print(\"The model used is Random Forest classifier\") \n",
    "  \n",
    "acc = accuracy_score(yTest, yPred) \n",
    "print(\"The accuracy is {}\".format(acc)) \n",
    "  \n",
    "prec = precision_score(yTest, yPred) \n",
    "print(\"The precision is {}\".format(prec)) \n",
    "  \n",
    "rec = recall_score(yTest, yPred) \n",
    "print(\"The recall is {}\".format(rec)) \n",
    "  \n",
    "f1 = f1_score(yTest, yPred) \n",
    "print(\"The F1-Score is {}\".format(f1)) \n",
    "  \n",
    "MCC = matthews_corrcoef(yTest, yPred) \n",
    "print(\"The Matthews correlation coefficient is {}\".format(MCC))"
   ]
  },
  {
   "cell_type": "markdown",
   "id": "d7ce104b",
   "metadata": {},
   "source": [
    "- **Accuracy**: The model achieved an accuracy of approximately 99.96%, indicating that it correctly classified the vast majority of transactions as either fraudulent or valid.\n",
    "- **Precision**: The precision of 97.5% means that when the model predicts a transaction as fraudulent, it is correct 97.5% of the time.\n",
    "- **Recall**: The recall of 77.6% indicates that the model correctly identified 79.6% of the actual fraudulent transactions.\n",
    "- **F1-Score**: The F1-score, which is the harmonic mean of precision and recall, is 86.3%, indicating a good balance between precision and recall.\n",
    "- **Matthews Correlation Coefficient (MCC)**: The MCC of 86.9% is a measure of the quality of binary classifications and indicates a strong correlation between the predicted and actual classes."
   ]
  },
  {
   "cell_type": "markdown",
   "id": "a557fce4",
   "metadata": {},
   "source": [
    "## Confusion Matrix for Random Forest Classifier Prediction"
   ]
  },
  {
   "cell_type": "code",
   "execution_count": 24,
   "id": "b9f75a34",
   "metadata": {},
   "outputs": [
    {
     "data": {
      "image/png": "[encoded data removed]",
      "text/plain": [
       "<Figure size 864x864 with 2 Axes>"
      ]
     },
     "metadata": {
      "needs_background": "light"
     },
     "output_type": "display_data"
    }
   ],
   "source": [
    "# printing the confusion matrix \n",
    "LABELS = ['Normal', 'Fraud'] \n",
    "conf_matrix = confusion_matrix(yTest, yPred) \n",
    "plt.figure(figsize =(12, 12)) \n",
    "sns.heatmap(conf_matrix, xticklabels = LABELS,  \n",
    "            yticklabels = LABELS, annot = True, fmt =\"d\"); \n",
    "plt.title(\"Confusion matrix\") \n",
    "plt.ylabel('True class') \n",
    "plt.xlabel('Predicted class') \n",
    "plt.show() "
   ]
  },
  {
   "cell_type": "markdown",
   "id": "8be9681d",
   "metadata": {},
   "source": [
    "__Confusion Matrix__\n",
    ">This confusion matrix visualizes the performance of the Random Forest Classifier model in predicting fraud and normal transactions. Each cell in the matrix represents the count of observations that fall into a particular category.\n",
    "\n",
    "\n",
    "|                              |  Predicted Normal (Negative) | Predicted Fraud (Positive)  |\n",
    "|------------------------------|------------------------------|-----------------------------|\n",
    "| **Actual Normal(Neagtive)**  |        **TN = 56862**        |          **FP = 2**         |\n",
    "| **Actual Fraud(Positive)**   |        **FN = 22**           |          **TP = 76**        |\n"
   ]
  },
  {
   "cell_type": "markdown",
   "id": "06d94fd3",
   "metadata": {},
   "source": [
    "- **True Negatives (TN)**: 56862 (Correctly predicted normal transactions)\n",
    "- **False Positives (FP)**: 2 (Normal transactions incorrectly predicted as fraud)\n",
    "- **False Negatives (FN)**: 22 (Fraudulent transactions incorrectly predicted as normal)\n",
    "- **True Positives (TP)**: 76 (Correctly predicted fraudulent transactions)"
   ]
  },
  {
   "cell_type": "markdown",
   "id": "5d04cf98",
   "metadata": {},
   "source": [
    "----------------------------------------------------------------------------------------------*-------------------------------------------------------------------------------------------------------------------"
   ]
  }
 ],
 "metadata": {
  "kernelspec": {
   "display_name": "Python 3 (ipykernel)",
   "language": "python",
   "name": "python3"
  },
  "language_info": {
   "codemirror_mode": {
    "name": "ipython",
    "version": 3
   },
   "file_extension": ".py",
   "mimetype": "text/x-python",
   "name": "python",
   "nbconvert_exporter": "python",
   "pygments_lexer": "ipython3",
   "version": "3.9.12"
  }
 },
 "nbformat": 4,
 "nbformat_minor": 5
}
